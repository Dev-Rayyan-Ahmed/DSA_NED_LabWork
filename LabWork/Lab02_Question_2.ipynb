{
 "cells": [
  {
   "cell_type": "markdown",
   "id": "bab239da",
   "metadata": {},
   "source": [
    "## Question No.2\n",
    "### Dictionary Inseration, Deletion, and Searching Algorithms Test"
   ]
  },
  {
   "cell_type": "code",
   "execution_count": null,
   "id": "a1ef377d",
   "metadata": {},
   "outputs": [
    {
     "name": "stdout",
     "output_type": "stream",
     "text": [
      "Insertion\n",
      "Self-Made Insertion:  3.00002284348011e-06\n",
      "Built-in Insertion:  1.100008375942707e-06\n",
      "\n",
      "Deletion\n",
      "Self-Made Deletion:  3.999972250312567e-06\n",
      "Built-in Deletion:  2.2999593056738377e-06\n",
      "\n",
      "Searching\n",
      "Self-Made Deletion:  3.700028173625469e-06\n",
      "Built-in Deletion:  1.600012183189392e-06\n"
     ]
    }
   ],
   "source": [
    "import timeit\n",
    "def dict_insertion(dict, key, value):\n",
    "    dict[key] = value\n",
    "    return dict\n",
    "\n",
    "def dict_deletion(dict, key):\n",
    "    if key in dict:\n",
    "        del dict[key]\n",
    "    return dict\n",
    "\n",
    "def dict_search(dict, key):\n",
    "    for k, v in dict.items():\n",
    "        if k == key:\n",
    "            return v\n",
    "\n",
    "dict = {1:\"A\", 2:\"B\", 3:\"C\", 4:\"D\"}\n",
    "\n",
    "# Insertion\n",
    "print(\"Insertion\")\n",
    "print(\"Self-Made Insertion: \", timeit.timeit(\"dict_insertion(dict,5,'E');\",globals=globals(), number=5))\n",
    "print(\"Built-in Insertion: \", timeit.timeit(\"dict[5]='E';\",globals=globals(), number=5))\n",
    "\n",
    "# Deletion:\n",
    "print(\"\\nDeletion\")\n",
    "print(\"Self-Made Deletion: \", timeit.timeit(\"d = dict.copy(); dict_deletion(d,3);\",globals=globals(), number=5))\n",
    "print(\"Built-in Deletion: \", timeit.timeit(\"d = dict.copy(); d.pop(3);\",globals=globals(), number=5))\n",
    "\n",
    "# Searching\n",
    "print(\"\\nSearching\")\n",
    "print(\"Self-Made Searching: \", timeit.timeit(\"dict_search(dict,3)\",globals=globals(), number=5))\n",
    "print(\"Built-in Searching: \", timeit.timeit(\"dict.get(3)\",globals=globals(), number=5))\n",
    "\n",
    "# Output:\n"
   ]
  },
  {
   "cell_type": "markdown",
   "id": "68a845c6",
   "metadata": {},
   "source": [
    "### Tuple Inseration, Deletion, and Searching Algorithms Test\n",
    "_Tuples are immutable. So, we simulate insertion/deletion by creating a new tuple_"
   ]
  },
  {
   "cell_type": "code",
   "execution_count": 12,
   "id": "cf908ba5",
   "metadata": {},
   "outputs": [
    {
     "name": "stdout",
     "output_type": "stream",
     "text": [
      "Insertion\n",
      "Self-Made Insertion:  5.999987479299307e-06\n",
      "Built-in Insertion:  2.8999638743698597e-06\n",
      "\n",
      "Deletion\n",
      "Self-Made Deletion:  8.100003469735384e-06\n",
      "Built-in Deletion:  2.0999577827751637e-06\n",
      "\n",
      "Searching\n",
      "Self-Made Searching:  3.89997148886323e-06\n",
      "Built-in Searching:  8.200004231184721e-06\n"
     ]
    }
   ],
   "source": [
    "def tuple_insertion(tup,value,pos):\n",
    "    sub_tup = tup[:pos]\n",
    "    post_tup = tup[pos+1:]\n",
    "    return sub_tup + (value,) + post_tup\n",
    "\n",
    "def tuple_deletion(tup, value):\n",
    "    for i in range(len(tup)):\n",
    "        if tup[i] == value:\n",
    "            idx = i\n",
    "            break\n",
    "    sub_tup = tup[:idx]\n",
    "    post_tup = tup[idx+1:]\n",
    "    return sub_tup + post_tup\n",
    "\n",
    "def tuple_search(tup, value):\n",
    "    for i in range(len(tup)):\n",
    "        if tup[i] == value:\n",
    "            return i\n",
    "        \n",
    "tup = (1,2,3,4,5,6)\n",
    "\n",
    "# Insertion\n",
    "print(\"Insertion\")\n",
    "print(\"Self-Made Insertion: \", timeit.timeit(\"tuple_insertion(tup,0,3)\",globals=globals(), number=5))\n",
    "print(\"Built-in Insertion: \", timeit.timeit(\"new_tup = tup[:3]+(0,)+tup[3:]\",globals=globals(), number=5))\n",
    "\n",
    "# Deletion:\n",
    "print(\"\\nDeletion\")\n",
    "print(\"Self-Made Deletion: \", timeit.timeit(\"tuple_deletion(tup,3)\",globals=globals(), number=5))\n",
    "print(\"Built-in Deletion: \", timeit.timeit(\"new_tup = tup[:3]+tup[3+1:]\",globals=globals(), number=5))\n",
    "\n",
    "# Searching\n",
    "print(\"\\nSearching\")\n",
    "print(\"Self-Made Searching: \", timeit.timeit(\"tuple_search(tup, 3)\",globals=globals(), number=5))\n",
    "print(\"Built-in Searching: \", timeit.timeit(\"tup.index(3)\",globals=globals(), number=5))\n",
    "\n",
    "\n",
    "\n",
    "\n"
   ]
  },
  {
   "cell_type": "code",
   "execution_count": null,
   "id": "9758ca59",
   "metadata": {},
   "outputs": [],
   "source": []
  }
 ],
 "metadata": {
  "kernelspec": {
   "display_name": "Python 3",
   "language": "python",
   "name": "python3"
  },
  "language_info": {
   "codemirror_mode": {
    "name": "ipython",
    "version": 3
   },
   "file_extension": ".py",
   "mimetype": "text/x-python",
   "name": "python",
   "nbconvert_exporter": "python",
   "pygments_lexer": "ipython3",
   "version": "3.12.4"
  }
 },
 "nbformat": 4,
 "nbformat_minor": 5
}
