{
 "cells": [
  {
   "cell_type": "markdown",
   "id": "6ffe5502",
   "metadata": {},
   "source": [
    "### Exercise (a)"
   ]
  },
  {
   "cell_type": "code",
   "execution_count": 7,
   "id": "66c60aed",
   "metadata": {},
   "outputs": [],
   "source": [
    "## A5.1 - StoreTriangular(A)\n",
    "def storeTriangular(A):\n",
    "    n = len(A)\n",
    "    U_size = int(0.5*n*(n+1))\n",
    "    U = [0 for i in range(U_size)]\n",
    "    i = 0\n",
    "    for j in range(n):\n",
    "        for k in range(j+1):\n",
    "            U[i] = A[j][k]\n",
    "            i+=1\n",
    "    return U\n",
    "\n",
    "## A5.2 - RetrieveTriangular(U)\n",
    "def retrieveTriangular(U):\n",
    "    Usize = len(U)\n",
    "    n = int((-1+(1+8*Usize)**0.5)//2)\n",
    "\n",
    "    A = [[0 for col in range(n)] for row in range(n)]\n",
    "\n",
    "    for j in range(n):\n",
    "        for k in range(n):\n",
    "            if (k>j):\n",
    "                A[j][k] = 0\n",
    "            else:\n",
    "                L = int((0.5*j*(j+1))+k)\n",
    "                A[j][k] = U[L]\n",
    "    return A"
   ]
  },
  {
   "cell_type": "code",
   "execution_count": null,
   "id": "f81bbae2",
   "metadata": {},
   "outputs": [
    {
     "name": "stdout",
     "output_type": "stream",
     "text": [
      "Stored U:  [4, 3, -5, 1, 6, 2, 8, 0, 5, 9]\n",
      "Retrieved Matrix: \n",
      " [[4, 0, 0, 0], [3, -5, 0, 0], [1, 6, 2, 0], [8, 0, 5, 9]]\n"
     ]
    }
   ],
   "source": [
    "A = [\n",
    " [4,0,0,0],\n",
    " [3,-5,0,0],\n",
    " [1,6,2,0],\n",
    " [8,0,5,9]]\n",
    "\n",
    "U = storeTriangular(A)\n",
    "print(\"Stored U: \", U)\n",
    "retrieved = retrieveTriangular(U)\n",
    "print(\"Retrieved Matrix: \\n\", retrieved)"
   ]
  },
  {
   "cell_type": "markdown",
   "id": "9efc778a",
   "metadata": {},
   "source": [
    "### Exercise (b)"
   ]
  },
  {
   "cell_type": "code",
   "execution_count": null,
   "id": "4e1a8ef7",
   "metadata": {},
   "outputs": [],
   "source": []
  },
  {
   "cell_type": "markdown",
   "id": "489d7f8b",
   "metadata": {},
   "source": [
    "### Exercise (d) & (e)"
   ]
  },
  {
   "cell_type": "code",
   "execution_count": 19,
   "id": "74d24a89",
   "metadata": {},
   "outputs": [
    {
     "name": "stdout",
     "output_type": "stream",
     "text": [
      "U:  [5, -7, 1, 4, 3, 9, -3, 6, 2, 4]\n",
      "Retrieved Matrix:\n",
      "[5, -7, 0, 0]\n",
      "[1, 4, 3, 0]\n",
      "[0, 9, -3, 6]\n",
      "[0, 0, 2, 4]\n"
     ]
    }
   ],
   "source": [
    "def store_tridiagonal(B):\n",
    "    n = len(B)\n",
    "    Usize = 3*n-2\n",
    "    U = [0 for i in range(Usize)]\n",
    "    i = 0\n",
    "    for j in range(n):\n",
    "        for k in range(j-1,j+2):\n",
    "            if 0 <= k < n:\n",
    "                U[i] = B[j][k]\n",
    "                i += 1\n",
    "    return U\n",
    "\n",
    "def retrieve_tridiagonal(U):\n",
    "    Usize = len(U)\n",
    "    n = (Usize+2)//3\n",
    "    B = [[0 for i in range(n)] for j in range(n)]\n",
    "\n",
    "    for j in range(n):\n",
    "        for k in range(n):\n",
    "            if j+1 >= k >= j-1:\n",
    "                x = 2*j + k\n",
    "                B[j][k] = U[x]\n",
    "            else:\n",
    "                B[j][k] = 0\n",
    "    return B\n",
    "\n",
    "\n",
    "B = [\n",
    "    [5, -7, 0, 0],\n",
    "    [1, 4, 3, 0],\n",
    "    [0, 9, -3, 6],\n",
    "    [0, 0, 2, 4]\n",
    "]\n",
    "result2 = store_tridiagonal(B)\n",
    "print(\"U: \", result2)\n",
    "retrieved2 = retrieve_tridiagonal(result2)\n",
    "print(\"Retrieved Matrix:\")\n",
    "for row in retrieved2:\n",
    "    print(row)"
   ]
  },
  {
   "cell_type": "markdown",
   "id": "f2d282e5",
   "metadata": {},
   "source": [
    "## Exercise (f)"
   ]
  },
  {
   "cell_type": "code",
   "execution_count": 24,
   "id": "e3558d1f",
   "metadata": {},
   "outputs": [
    {
     "name": "stdout",
     "output_type": "stream",
     "text": [
      "Dense Matrix:\n",
      " [[1 0 0 0 2 0]\n",
      " [0 0 3 0 0 4]\n",
      " [5 0 0 6 0 0]]\n",
      "\n",
      "CSR Representation:\n",
      " <Compressed Sparse Row sparse matrix of dtype 'int64'\n",
      "\twith 6 stored elements and shape (3, 6)>\n",
      "  Coords\tValues\n",
      "  (0, 0)\t1\n",
      "  (0, 4)\t2\n",
      "  (1, 2)\t3\n",
      "  (1, 5)\t4\n",
      "  (2, 0)\t5\n",
      "  (2, 3)\t6\n",
      "\n",
      "Back to Dense:\n",
      " [[1 0 0 0 2 0]\n",
      " [0 0 3 0 0 4]\n",
      " [5 0 0 6 0 0]]\n"
     ]
    }
   ],
   "source": [
    "import numpy as np\n",
    "from scipy.sparse import csr_matrix\n",
    "\n",
    "dense = np.array([\n",
    "    [1, 0, 0, 0, 2, 0],\n",
    "    [0, 0, 3, 0, 0, 4],\n",
    "    [5, 0, 0, 6, 0, 0]\n",
    "])\n",
    "\n",
    "print(\"Dense Matrix:\\n\", dense)\n",
    "\n",
    "#Converting to CSR format\n",
    "sparse_csr = csr_matrix(dense)\n",
    "print(\"\\nCSR Representation:\\n\", sparse_csr)\n",
    "\n",
    "#Converting back to dense\n",
    "dense_back = sparse_csr.toarray()\n",
    "print(\"\\nBack to Dense:\\n\", dense_back)"
   ]
  },
  {
   "cell_type": "code",
   "execution_count": null,
   "id": "98ac7404",
   "metadata": {},
   "outputs": [],
   "source": []
  }
 ],
 "metadata": {
  "kernelspec": {
   "display_name": "Python 3",
   "language": "python",
   "name": "python3"
  },
  "language_info": {
   "codemirror_mode": {
    "name": "ipython",
    "version": 3
   },
   "file_extension": ".py",
   "mimetype": "text/x-python",
   "name": "python",
   "nbconvert_exporter": "python",
   "pygments_lexer": "ipython3",
   "version": "3.12.4"
  }
 },
 "nbformat": 4,
 "nbformat_minor": 5
}
