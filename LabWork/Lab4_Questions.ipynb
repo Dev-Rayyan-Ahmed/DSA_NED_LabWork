{
 "cells": [
  {
   "cell_type": "markdown",
   "id": "a2d56bc0",
   "metadata": {},
   "source": [
    "## Exercise (a)"
   ]
  },
  {
   "cell_type": "code",
   "execution_count": 12,
   "id": "ff791247",
   "metadata": {},
   "outputs": [
    {
     "name": "stdout",
     "output_type": "stream",
     "text": [
      "Matrix C:\n",
      "[30, 24, 18]\n",
      "[84, 69, 54]\n",
      "[138, 114, 90]\n"
     ]
    }
   ],
   "source": [
    "def matMul(A,B):\n",
    "    if len(A[0]) == len(B): # cA == rB\n",
    "        n = len(A)\n",
    "        C = [[0 for nul in range(n)] for nul in range(n)]\n",
    "        for i in range(n):\n",
    "            for j in range(n):\n",
    "                for k in range(n):\n",
    "                    C[i][j] = C[i][j] + A[i][k] * B[k][j]\n",
    "        return C\n",
    "    return None \n",
    "\n",
    "A = [[1, 2, 3],\n",
    "     [4, 5, 6],\n",
    "     [7, 8, 9]]\n",
    "B = [[9, 8, 7],\n",
    "     [6, 5, 4],\n",
    "     [3, 2, 1]]\n",
    "\n",
    "C = matMul(A,B)\n",
    "print(\"Matrix C:\")\n",
    "for row in C:\n",
    "    print(row)\n",
    "# Output:    "
   ]
  },
  {
   "cell_type": "markdown",
   "id": "126f2260",
   "metadata": {},
   "source": [
    "## Exercise (b)"
   ]
  },
  {
   "cell_type": "code",
   "execution_count": null,
   "id": "3f461774",
   "metadata": {},
   "outputs": [
    {
     "name": "stdout",
     "output_type": "stream",
     "text": [
      "Matrix C: of Order rAxcB\n",
      "[23, 24, 18, 24]\n",
      "[56, 69, 54, 60]\n",
      "[65, 98, 82, 64]\n"
     ]
    }
   ],
   "source": [
    "def matMul(A,B):\n",
    "    rA, cA, rB, cB = len(A), len(A[0]), len(B), len(B[0]) \n",
    "    if cA == rB:\n",
    "        C = [[0 for nul in range(cB)] for nul in range(rA)]\n",
    "        for i in range(cA):\n",
    "            for j in range(cB):\n",
    "                for k in range(rB):\n",
    "                    C[i][j] = C[i][j] + A[i][k] * B[k][j]\n",
    "        return C\n",
    "    return None \n",
    "\n",
    "A = [[1, 2, 3],\n",
    "     [4, 5, 6],\n",
    "     [7, 8, 1]]\n",
    "B = [[2, 8, 7, 4],\n",
    "     [6, 5, 4, 4],\n",
    "     [3, 2, 1, 4]]\n",
    "\n",
    "C = matMul(A,B)\n",
    "print(\"Matrix C: of Order rAxcB\")\n",
    "for row in C:\n",
    "    print(row)\n",
    "    \n",
    "# Output:    "
   ]
  },
  {
   "cell_type": "code",
   "execution_count": null,
   "id": "2444bcdc",
   "metadata": {},
   "outputs": [],
   "source": []
  }
 ],
 "metadata": {
  "kernelspec": {
   "display_name": "Python 3",
   "language": "python",
   "name": "python3"
  },
  "language_info": {
   "codemirror_mode": {
    "name": "ipython",
    "version": 3
   },
   "file_extension": ".py",
   "mimetype": "text/x-python",
   "name": "python",
   "nbconvert_exporter": "python",
   "pygments_lexer": "ipython3",
   "version": "3.12.4"
  }
 },
 "nbformat": 4,
 "nbformat_minor": 5
}
