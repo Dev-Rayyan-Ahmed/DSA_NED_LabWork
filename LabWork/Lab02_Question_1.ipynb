{
 "cells": [
  {
   "cell_type": "markdown",
   "id": "d27d8ba0",
   "metadata": {},
   "source": [
    "## Question No.1 Algoithms A2.1 to A2.3"
   ]
  },
  {
   "cell_type": "markdown",
   "id": "75a8301a",
   "metadata": {},
   "source": [
    "### A2.1 Insertion"
   ]
  },
  {
   "cell_type": "code",
   "execution_count": null,
   "id": "00e488e2",
   "metadata": {},
   "outputs": [
    {
     "name": "stdout",
     "output_type": "stream",
     "text": [
      "[0, 1, 2, 3, 4, 5, 6]\n",
      "[1, 2, 3, 0, 4, 5, 6]\n",
      "[1, 2, 3, 4, 5, 6, 0]\n",
      "Self-Made Insert at Start:  0.000152900000102818\n",
      "Built-in Insert at Start:  0.00040060002356767654\n",
      "\n",
      "Self-Made Insert at Middle:  0.0006438999553211033\n",
      "Built-in Insert at Middle:  0.0010211000335402787\n",
      "\n",
      "Self-Made Insert at End:  0.0033121000160463154\n",
      "Built-in Insert at End:  0.0005599000141955912\n"
     ]
    }
   ],
   "source": [
    "import timeit\n",
    "def insertion(li, data, pos):\n",
    "    sub_li = li[:pos]\n",
    "    post_li = li[pos:]\n",
    "    \n",
    "    result = sub_li + [data] + post_li\n",
    "    # print(result)\n",
    "    return result\n",
    "\n",
    "lis = [1,2,3,4,5,6] \n",
    "print(insertion(lis,0,0))\n",
    "print(insertion(lis,0,3))\n",
    "print(insertion(lis,0,len(lis)))\n",
    "\n",
    "# Insert at Start \n",
    "print(\"Self-Made Insert at Start: \", timeit.timeit(\"insertion(lis, 0, 0);\",globals= globals(), number=500))\n",
    "print(\"Built-in Insert at Start: \", timeit.timeit(\"lis.insert(0,0)\",globals= globals(), number=500))\n",
    "\n",
    "# Insert at Middle \n",
    "print(\"Self-Made Insert at Middle: \", timeit.timeit(\"insertion(lis, 0, 3);\",globals= globals(), number=500))\n",
    "print(\"Built-in Insert at Middle: \", timeit.timeit(\"lis.insert(0,3)\",globals= globals(), number=500))\n",
    "\n",
    "# Insert at End \n",
    "print(\"Self-Made Insert at End: \", timeit.timeit(\"insertion(lis, 0, -1);\",globals= globals(), number=500))\n",
    "print(\"Built-in Insert at End: \", timeit.timeit(\"lis.insert(0,-1)\",globals= globals(), number=500))\n",
    "\n",
    "# Output"
   ]
  },
  {
   "cell_type": "markdown",
   "id": "db617878",
   "metadata": {},
   "source": [
    "### A2.2 Deletion"
   ]
  },
  {
   "cell_type": "code",
   "execution_count": null,
   "id": "66c75900",
   "metadata": {},
   "outputs": [
    {
     "name": "stdout",
     "output_type": "stream",
     "text": [
      "Removed 1 [2, 3, 4, 5, 6]\n",
      "Removed 3 [1, 2, 4, 5, 6]\n",
      "Removed 6 [1, 2, 3, 4, 5]\n",
      "Self-Made Delete at Start:  0.00015570002142339945\n",
      "Built-in Delete at Start:  4.980002995580435e-05\n",
      "\n",
      "Self-Made Delete at Middle:  0.00016250001499429345\n",
      "Built-in Delete at Middle:  5.8100034948438406e-05\n",
      "\n",
      "Self-Made Delete at End:  0.00017479999223724008\n",
      "Built-in Delete at End:  7.289997301995754e-05\n"
     ]
    }
   ],
   "source": [
    "import timeit\n",
    "def dele(li,data):\n",
    "    index = li.index(data)\n",
    "    sub_li = li[:index]\n",
    "    post_li = li[index+1:]\n",
    "\n",
    "    return sub_li + post_li\n",
    "\n",
    "\n",
    "\n",
    "lis = [1,2,3,4,5,6]\n",
    "print(\"Removed 1\",dele(lis, 1))\n",
    "print(\"Removed 3\",dele(lis, 3))\n",
    "print(\"Removed 6\",dele(lis, 6))\n",
    "\n",
    "lis = [1,2,3,4,5,6] \n",
    "\n",
    "# Delete at Start \n",
    "print(\"Self-Made Delete at Start: \", timeit.timeit(\"l = lis.copy(); dele(l, 1);\",globals= globals(), number=500))\n",
    "print(\"Built-in Delete at Start: \", timeit.timeit(\"l = lis.copy(); l.remove(1)\",globals= globals(), number=500))\n",
    "\n",
    "# Delete at Middle \n",
    "print(\"Self-Made Delete at Middle: \", timeit.timeit(\"l = lis.copy(); dele(l, 3);\",globals= globals(), number=500))\n",
    "print(\"Built-in Delete at Middle: \", timeit.timeit(\"l = lis.copy(); l.remove(3)\",globals= globals(), number=500))\n",
    "\n",
    "# Delete at End \n",
    "print(\"Self-Made Delete at End: \", timeit.timeit(\"l = lis.copy(); dele(l, 6);\",globals= globals(), number=500))\n",
    "print(\"Built-in Delete at End: \", timeit.timeit(\"l = lis.copy(); l.remove(6)\",globals= globals(), number=500))\n",
    "\n",
    "# Output\n"
   ]
  },
  {
   "cell_type": "markdown",
   "id": "0dc75c0c",
   "metadata": {},
   "source": [
    "### A2.3 Searching"
   ]
  },
  {
   "cell_type": "code",
   "execution_count": null,
   "id": "b7160c37",
   "metadata": {},
   "outputs": [
    {
     "name": "stdout",
     "output_type": "stream",
     "text": [
      "['a', 'b', 'c', 'd', 'e']\n",
      "Index of a 0\n",
      "Index of c 2\n",
      "Index of e 4 \n",
      "\n",
      "Self-Made Search at Start:  0.00010010000551119447\n",
      "Built-in Search at Start:  2.4200009647756815e-05\n",
      "\n",
      "Self-Made Search at Middle:  0.00013180001405999064\n",
      "Built-in Search at Middle:  1.9499973859637976e-05\n",
      "\n",
      "Self-Made Search at End:  8.890003664419055e-05\n",
      "Built-in Search at End:  2.400000812485814e-05\n"
     ]
    }
   ],
   "source": [
    "import timeit\n",
    "def search(li, data):\n",
    "    for i in range(len(li)):\n",
    "        if li[i] == data:\n",
    "            return i\n",
    "\n",
    "lis = [\"a\",\"b\",\"c\",\"d\",\"e\",]\n",
    "print(lis)\n",
    "print(\"Index of a\",search(lis, \"a\"))\n",
    "print(\"Index of c\",search(lis, \"c\"))\n",
    "print(\"Index of e\",search(lis, \"e\"),\"\\n\")\n",
    "\n",
    "# Search at Start \n",
    "print(\"Self-Made Search at Start: \", timeit.timeit(\"search(lis,'a')\",globals= globals(), number=500))\n",
    "print(\"Built-in Search at Start: \", timeit.timeit(\"lis.index('a')\",globals= globals(), number=500))\n",
    "\n",
    "# Search at Middle \n",
    "print(\"Self-Made Search at Middle: \", timeit.timeit(\"search(lis,'c')\",globals= globals(), number=500))\n",
    "print(\"Built-in Search at Middle: \", timeit.timeit(\"lis.index('c')\",globals= globals(), number=500))\n",
    "\n",
    "# Search at End \n",
    "print(\"Self-Made Search at End: \", timeit.timeit(\"search(lis,'e')\",globals= globals(), number=500))\n",
    "print(\"Built-in Search at End: \", timeit.timeit(\"lis.index('e')\",globals= globals(), number=500))\n",
    "\n",
    "# Output"
   ]
  }
 ],
 "metadata": {
  "kernelspec": {
   "display_name": "Python 3",
   "language": "python",
   "name": "python3"
  },
  "language_info": {
   "codemirror_mode": {
    "name": "ipython",
    "version": 3
   },
   "file_extension": ".py",
   "mimetype": "text/x-python",
   "name": "python",
   "nbconvert_exporter": "python",
   "pygments_lexer": "ipython3",
   "version": "3.12.4"
  }
 },
 "nbformat": 4,
 "nbformat_minor": 5
}
