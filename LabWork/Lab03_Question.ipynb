{
 "cells": [
  {
   "cell_type": "markdown",
   "id": "4b612e3c",
   "metadata": {},
   "source": [
    "## Exercise (a) "
   ]
  },
  {
   "cell_type": "code",
   "execution_count": null,
   "id": "c08fb1b6",
   "metadata": {},
   "outputs": [
    {
     "name": "stdout",
     "output_type": "stream",
     "text": [
      "Searched in Arr: [1, 2, 3, 4] for 3, Found at:2\n",
      "Difference\n",
      "Self-Made Searching:  0.0007406999939121306\n",
      "Built-in Searching:  0.00014240003656595945\n"
     ]
    }
   ],
   "source": [
    "# Self-Defined:\n",
    "def binary_search(Arr, Item):\n",
    "    BEG = 0\n",
    "    END = len(Arr) - 1\n",
    "    MID = int((BEG + END)/2)\n",
    "    while True:\n",
    "        if BEG > END or Arr[MID] == Item:\n",
    "            break\n",
    "        if Item < Arr[MID]:\n",
    "            END = MID - 1  \n",
    "        else:\n",
    "            BEG = MID + 1\n",
    "\n",
    "        MID = int((BEG + END)/2)\n",
    "\n",
    "    if Arr[MID] == Item:\n",
    "        LOC = MID  \n",
    "    else:\n",
    "        LOC = None  \n",
    "    return LOC\n",
    "\n",
    "lis = eval(input(\"Enter an Array in array-format: \"))\n",
    "search_item = int(input('Enter Search Item: '))\n",
    "print(f\"Searched in Arr: {lis} for {search_item}, Found at:{binary_search(lis, 3)}\")\n",
    "\n",
    "import timeit\n",
    "print(\"Difference\")\n",
    "print(\"Self-Made Searching: \", timeit.timeit(\"binary_search([1,2,3,4,5],5)\",globals=globals(), number=500))\n",
    "print(\"Built-in Searching: \", timeit.timeit(\"[1,2,3,4,5].index(5)\",globals=globals(), number=500))\n",
    "\n",
    "# Output"
   ]
  },
  {
   "cell_type": "markdown",
   "id": "0afc2b81",
   "metadata": {},
   "source": [
    "## Exercise (c)"
   ]
  },
  {
   "cell_type": "code",
   "execution_count": 25,
   "id": "a5d3c9b0",
   "metadata": {},
   "outputs": [
    {
     "name": "stdout",
     "output_type": "stream",
     "text": [
      "Item Not Found, Inserting it in a sorted-way\n",
      "[1, 2, 3, 4, 5, 6]\n"
     ]
    }
   ],
   "source": [
    "def binary_search_and_insertion(arr, item):\n",
    "    if arr != sorted(arr):\n",
    "        print(\"Input List was UnSorted, Sorting and continuing\")\n",
    "    arr = sorted(arr)\n",
    "    beg, end = 0 , len(arr)-1\n",
    "    while True:\n",
    "        mid = (beg+end)//2\n",
    "        if (beg>end or arr[mid]==item):\n",
    "            if arr[mid] == item:\n",
    "                loc = mid  \n",
    "            else:\n",
    "                loc = None  \n",
    "            break\n",
    "        \n",
    "        if item < arr[mid]:\n",
    "            end = mid - 1  \n",
    "        else:\n",
    "            beg = mid + 1\n",
    "        mid = int((beg + end)/2)\n",
    "    \n",
    "    if loc is None:\n",
    "        print(\"Item Not Found, Inserting it in a sorted-way\")\n",
    "        for idx in range(len(arr)):\n",
    "            if item < arr[idx]:\n",
    "                arr.insert(idx, item)\n",
    "        return arr\n",
    "    return loc\n",
    "\n",
    "print(binary_search_and_insertion([1,2,3,4,6],5))\n",
    "         \n"
   ]
  },
  {
   "cell_type": "code",
   "execution_count": null,
   "id": "eb15ac8f",
   "metadata": {},
   "outputs": [],
   "source": []
  }
 ],
 "metadata": {
  "kernelspec": {
   "display_name": "Python 3",
   "language": "python",
   "name": "python3"
  },
  "language_info": {
   "codemirror_mode": {
    "name": "ipython",
    "version": 3
   },
   "file_extension": ".py",
   "mimetype": "text/x-python",
   "name": "python",
   "nbconvert_exporter": "python",
   "pygments_lexer": "ipython3",
   "version": "3.12.4"
  }
 },
 "nbformat": 4,
 "nbformat_minor": 5
}
