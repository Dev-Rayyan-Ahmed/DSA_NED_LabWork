{
 "cells": [
  {
   "cell_type": "markdown",
   "id": "3577b412",
   "metadata": {},
   "source": [
    "## Question No.1"
   ]
  },
  {
   "cell_type": "code",
   "execution_count": null,
   "id": "7d96ea3a",
   "metadata": {},
   "outputs": [
    {
     "name": "stdout",
     "output_type": "stream",
     "text": [
      "First loop:\n",
      "Iteration 0 , n = 0, id(n) = 140718988196248\n",
      "After increment , n = 1, id(n) = 140718988196280\n",
      "*\n",
      "Iteration 1 , n = 1, id(n) = 140718988196280\n",
      "After increment , n = 2, id(n) = 140718988196312\n",
      "**\n",
      "Iteration 2 , n = 2, id(n) = 140718988196312\n",
      "After increment , n = 3, id(n) = 140718988196344\n",
      "***\n",
      "Iteration 3 , n = 3, id(n) = 140718988196344\n",
      "After increment , n = 4, id(n) = 140718988196376\n",
      "****\n",
      "Iteration 4 , n = 4, id(n) = 140718988196376\n",
      "After increment , n = 5, id(n) = 140718988196408\n",
      "*****\n",
      "Second loop:\n",
      "Iteration -5 , n = -5, id(n) = 140718988196088\n",
      "After increment , n = -4, id(n) = 140718988196120\n",
      "*****\n",
      "Iteration -4 , n = -4, id(n) = 140718988196120\n",
      "After increment , n = -3, id(n) = 140718988196152\n",
      "****\n",
      "Iteration -3 , n = -3, id(n) = 140718988196152\n",
      "After increment , n = -2, id(n) = 140718988196184\n",
      "***\n",
      "Iteration -2 , n = -2, id(n) = 140718988196184\n",
      "After increment , n = -1, id(n) = 140718988196216\n",
      "**\n",
      "Iteration -1 , n = -1, id(n) = 140718988196216\n",
      "After increment , n = 0, id(n) = 140718988196248\n",
      "*\n"
     ]
    }
   ],
   "source": [
    "x = int(input(\"Enter the number: \"))\n",
    "\n",
    "print(\"First loop:\")\n",
    "for n in range(0, x):\n",
    "    print(f\"Iteration {n} , n = {n}, id(n) = {id(n)}\")\n",
    "    n += 1\n",
    "    print(f\"After increment , n = {n}, id(n) = {id(n)}\")\n",
    "    print(\"*\" * (0 + n))\n",
    "print(\"Second loop:\")\n",
    "for n in range(-x, 0):\n",
    "    print(f\"Iteration {n} , n = {n}, id(n) = {id(n)}\")\n",
    "    n += 1\n",
    "    print(f\"After increment , n = {n}, id(n) = {id(n)}\")\n",
    "    print(\"*\" * (0 - n + 1))\n",
    "    \n",
    "# Output:\n"
   ]
  },
  {
   "cell_type": "markdown",
   "id": "d87f867d",
   "metadata": {},
   "source": [
    "## Question No.2"
   ]
  },
  {
   "cell_type": "code",
   "execution_count": null,
   "id": "8f702eb8",
   "metadata": {},
   "outputs": [
    {
     "name": "stdout",
     "output_type": "stream",
     "text": [
      "ID of Dict_1: 2339821493376\n",
      "Concat_Dict:  {1: 10, 2: 20, 3: 30, 4: 40, 5: 50, 6: 60}\n",
      "ID:  2339843122432\n"
     ]
    }
   ],
   "source": [
    "dic1 = {1: 10, 2: 20}\n",
    "dic2 = {3: 30, 4: 40}\n",
    "dic3 = {5: 50, 6: 60}\n",
    "print(\"ID of Dict_1:\",id(dic1))\n",
    "concat_dict = dic1 | dic2 | dic3\n",
    "\n",
    "print(\"Concat_Dict: \",concat_dict)\n",
    "print(\"ID: \",id(concat_dict))\n",
    "\n",
    "    \n",
    "# Output:"
   ]
  },
  {
   "cell_type": "markdown",
   "id": "77925e95",
   "metadata": {},
   "source": [
    "## Question No.3"
   ]
  },
  {
   "cell_type": "code",
   "execution_count": null,
   "id": "bb66d883",
   "metadata": {},
   "outputs": [
    {
     "name": "stdout",
     "output_type": "stream",
     "text": [
      "Address of list before removal of duplicates: 2339843172736\n",
      "Address of list after removal of duplicates: 2339843191808\n"
     ]
    }
   ],
   "source": [
    "l = [1,2,3,4,5,1,2,3,8,9,10]\n",
    "print(f\"Address of list before removal of duplicates: {id(l)}\")\n",
    "\n",
    "# Removing duplicates from list\n",
    "s = set(l)  # As we know set doesn't allow duplicates\n",
    "l = list(s) # Converting set back to list\n",
    "\n",
    "print(f\"Address of list after removal of duplicates: {id(l)}\")\n",
    "\n",
    "    \n",
    "# Output:\n"
   ]
  },
  {
   "cell_type": "markdown",
   "id": "78f510e6",
   "metadata": {},
   "source": [
    "## Question No. 4"
   ]
  },
  {
   "cell_type": "code",
   "execution_count": null,
   "id": "62a131e8",
   "metadata": {},
   "outputs": [
    {
     "name": "stdout",
     "output_type": "stream",
     "text": [
      "Id of tuple is: 2339842950960\n",
      "Element before tuple are:  7\n",
      "Id of list is: 2339843117440\n"
     ]
    }
   ],
   "source": [
    "list_2 = [1,2,3,4,5,6,7,(\"I am Tuple\",),8,9,10]\n",
    "counter = 0\n",
    "for i in list_2:\n",
    "    if(isinstance(i,tuple)):\n",
    "        print(\"Id of tuple is:\",id(i))\n",
    "        break\n",
    "    counter +=1\n",
    "print(\"Element before tuple are: \", counter)\n",
    "print(\"Id of list is:\",id(list_2))\n",
    "\n",
    "    \n",
    "# Output:"
   ]
  },
  {
   "cell_type": "code",
   "execution_count": null,
   "id": "ce96307a",
   "metadata": {},
   "outputs": [],
   "source": []
  }
 ],
 "metadata": {
  "kernelspec": {
   "display_name": "Python 3",
   "language": "python",
   "name": "python3"
  },
  "language_info": {
   "codemirror_mode": {
    "name": "ipython",
    "version": 3
   },
   "file_extension": ".py",
   "mimetype": "text/x-python",
   "name": "python",
   "nbconvert_exporter": "python",
   "pygments_lexer": "ipython3",
   "version": "3.12.4"
  }
 },
 "nbformat": 4,
 "nbformat_minor": 5
}
